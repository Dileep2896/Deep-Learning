{
  "nbformat": 4,
  "nbformat_minor": 0,
  "metadata": {
    "colab": {
      "name": "Artificial Neural Network For Regression Problem",
      "provenance": [],
      "collapsed_sections": [],
      "include_colab_link": true
    },
    "kernelspec": {
      "name": "python3",
      "display_name": "Python 3"
    }
  },
  "cells": [
    {
      "cell_type": "markdown",
      "metadata": {
        "id": "view-in-github",
        "colab_type": "text"
      },
      "source": [
        "<a href=\"https://colab.research.google.com/github/Dileep2896/Deep-Learning/blob/main/Artificial_Neural_Network_For_Regression_Problem.ipynb\" target=\"_parent\"><img src=\"https://colab.research.google.com/assets/colab-badge.svg\" alt=\"Open In Colab\"/></a>"
      ]
    },
    {
      "cell_type": "markdown",
      "metadata": {
        "id": "3cbb7fRy-eyr"
      },
      "source": [
        "# Artificial Neural Network"
      ]
    },
    {
      "cell_type": "markdown",
      "metadata": {
        "id": "8sNDnxE2-pwE"
      },
      "source": [
        "### Importing the libraries"
      ]
    },
    {
      "cell_type": "code",
      "metadata": {
        "id": "Hyu3Qrj2_C4C"
      },
      "source": [
        "import numpy as np\n",
        "import pandas as pd\n",
        "import tensorflow as tf"
      ],
      "execution_count": 1,
      "outputs": []
    },
    {
      "cell_type": "code",
      "metadata": {
        "colab": {
          "base_uri": "https://localhost:8080/",
          "height": 35
        },
        "id": "nBimXVWo_Z-R",
        "outputId": "8e2248c3-04ab-4754-fcc4-d6ef7ad92a65"
      },
      "source": [
        "tf.__version__"
      ],
      "execution_count": 2,
      "outputs": [
        {
          "output_type": "execute_result",
          "data": {
            "application/vnd.google.colaboratory.intrinsic+json": {
              "type": "string"
            },
            "text/plain": [
              "'2.5.0'"
            ]
          },
          "metadata": {
            "tags": []
          },
          "execution_count": 2
        }
      ]
    },
    {
      "cell_type": "markdown",
      "metadata": {
        "id": "AG3FQEch-yuA"
      },
      "source": [
        "## Part 1 - Data Preprocessing"
      ]
    },
    {
      "cell_type": "markdown",
      "metadata": {
        "id": "-4zq8Mza_D9O"
      },
      "source": [
        "### Importing the dataset"
      ]
    },
    {
      "cell_type": "code",
      "metadata": {
        "colab": {
          "base_uri": "https://localhost:8080/",
          "height": 419
        },
        "id": "ZHKaS3HZ_jAm",
        "outputId": "8c02181e-782b-41e5-e329-8cd351bd9bc2"
      },
      "source": [
        "dataset = pd.read_excel(\"/content/Folds5x2_pp.xlsx\")\n",
        "dataset"
      ],
      "execution_count": 3,
      "outputs": [
        {
          "output_type": "execute_result",
          "data": {
            "text/html": [
              "<div>\n",
              "<style scoped>\n",
              "    .dataframe tbody tr th:only-of-type {\n",
              "        vertical-align: middle;\n",
              "    }\n",
              "\n",
              "    .dataframe tbody tr th {\n",
              "        vertical-align: top;\n",
              "    }\n",
              "\n",
              "    .dataframe thead th {\n",
              "        text-align: right;\n",
              "    }\n",
              "</style>\n",
              "<table border=\"1\" class=\"dataframe\">\n",
              "  <thead>\n",
              "    <tr style=\"text-align: right;\">\n",
              "      <th></th>\n",
              "      <th>AT</th>\n",
              "      <th>V</th>\n",
              "      <th>AP</th>\n",
              "      <th>RH</th>\n",
              "      <th>PE</th>\n",
              "    </tr>\n",
              "  </thead>\n",
              "  <tbody>\n",
              "    <tr>\n",
              "      <th>0</th>\n",
              "      <td>14.96</td>\n",
              "      <td>41.76</td>\n",
              "      <td>1024.07</td>\n",
              "      <td>73.17</td>\n",
              "      <td>463.26</td>\n",
              "    </tr>\n",
              "    <tr>\n",
              "      <th>1</th>\n",
              "      <td>25.18</td>\n",
              "      <td>62.96</td>\n",
              "      <td>1020.04</td>\n",
              "      <td>59.08</td>\n",
              "      <td>444.37</td>\n",
              "    </tr>\n",
              "    <tr>\n",
              "      <th>2</th>\n",
              "      <td>5.11</td>\n",
              "      <td>39.40</td>\n",
              "      <td>1012.16</td>\n",
              "      <td>92.14</td>\n",
              "      <td>488.56</td>\n",
              "    </tr>\n",
              "    <tr>\n",
              "      <th>3</th>\n",
              "      <td>20.86</td>\n",
              "      <td>57.32</td>\n",
              "      <td>1010.24</td>\n",
              "      <td>76.64</td>\n",
              "      <td>446.48</td>\n",
              "    </tr>\n",
              "    <tr>\n",
              "      <th>4</th>\n",
              "      <td>10.82</td>\n",
              "      <td>37.50</td>\n",
              "      <td>1009.23</td>\n",
              "      <td>96.62</td>\n",
              "      <td>473.90</td>\n",
              "    </tr>\n",
              "    <tr>\n",
              "      <th>...</th>\n",
              "      <td>...</td>\n",
              "      <td>...</td>\n",
              "      <td>...</td>\n",
              "      <td>...</td>\n",
              "      <td>...</td>\n",
              "    </tr>\n",
              "    <tr>\n",
              "      <th>9563</th>\n",
              "      <td>16.65</td>\n",
              "      <td>49.69</td>\n",
              "      <td>1014.01</td>\n",
              "      <td>91.00</td>\n",
              "      <td>460.03</td>\n",
              "    </tr>\n",
              "    <tr>\n",
              "      <th>9564</th>\n",
              "      <td>13.19</td>\n",
              "      <td>39.18</td>\n",
              "      <td>1023.67</td>\n",
              "      <td>66.78</td>\n",
              "      <td>469.62</td>\n",
              "    </tr>\n",
              "    <tr>\n",
              "      <th>9565</th>\n",
              "      <td>31.32</td>\n",
              "      <td>74.33</td>\n",
              "      <td>1012.92</td>\n",
              "      <td>36.48</td>\n",
              "      <td>429.57</td>\n",
              "    </tr>\n",
              "    <tr>\n",
              "      <th>9566</th>\n",
              "      <td>24.48</td>\n",
              "      <td>69.45</td>\n",
              "      <td>1013.86</td>\n",
              "      <td>62.39</td>\n",
              "      <td>435.74</td>\n",
              "    </tr>\n",
              "    <tr>\n",
              "      <th>9567</th>\n",
              "      <td>21.60</td>\n",
              "      <td>62.52</td>\n",
              "      <td>1017.23</td>\n",
              "      <td>67.87</td>\n",
              "      <td>453.28</td>\n",
              "    </tr>\n",
              "  </tbody>\n",
              "</table>\n",
              "<p>9568 rows × 5 columns</p>\n",
              "</div>"
            ],
            "text/plain": [
              "         AT      V       AP     RH      PE\n",
              "0     14.96  41.76  1024.07  73.17  463.26\n",
              "1     25.18  62.96  1020.04  59.08  444.37\n",
              "2      5.11  39.40  1012.16  92.14  488.56\n",
              "3     20.86  57.32  1010.24  76.64  446.48\n",
              "4     10.82  37.50  1009.23  96.62  473.90\n",
              "...     ...    ...      ...    ...     ...\n",
              "9563  16.65  49.69  1014.01  91.00  460.03\n",
              "9564  13.19  39.18  1023.67  66.78  469.62\n",
              "9565  31.32  74.33  1012.92  36.48  429.57\n",
              "9566  24.48  69.45  1013.86  62.39  435.74\n",
              "9567  21.60  62.52  1017.23  67.87  453.28\n",
              "\n",
              "[9568 rows x 5 columns]"
            ]
          },
          "metadata": {
            "tags": []
          },
          "execution_count": 3
        }
      ]
    },
    {
      "cell_type": "code",
      "metadata": {
        "colab": {
          "base_uri": "https://localhost:8080/"
        },
        "id": "MFAkJDTwANYK",
        "outputId": "66f80909-7aeb-41a3-9b18-26fae083b85a"
      },
      "source": [
        "X = dataset.iloc[:, :-1].values\n",
        "y = dataset.iloc[:, -1].values\n",
        "X[:10], y[:10]"
      ],
      "execution_count": 5,
      "outputs": [
        {
          "output_type": "execute_result",
          "data": {
            "text/plain": [
              "(array([[  14.96,   41.76, 1024.07,   73.17],\n",
              "        [  25.18,   62.96, 1020.04,   59.08],\n",
              "        [   5.11,   39.4 , 1012.16,   92.14],\n",
              "        [  20.86,   57.32, 1010.24,   76.64],\n",
              "        [  10.82,   37.5 , 1009.23,   96.62],\n",
              "        [  26.27,   59.44, 1012.23,   58.77],\n",
              "        [  15.89,   43.96, 1014.02,   75.24],\n",
              "        [   9.48,   44.71, 1019.12,   66.43],\n",
              "        [  14.64,   45.  , 1021.78,   41.25],\n",
              "        [  11.74,   43.56, 1015.14,   70.72]]),\n",
              " array([463.26, 444.37, 488.56, 446.48, 473.9 , 443.67, 467.35, 478.42,\n",
              "        475.98, 477.5 ]))"
            ]
          },
          "metadata": {
            "tags": []
          },
          "execution_count": 5
        }
      ]
    },
    {
      "cell_type": "markdown",
      "metadata": {
        "id": "VC6omXel_Up0"
      },
      "source": [
        "### Splitting the dataset into the Training set and Test set"
      ]
    },
    {
      "cell_type": "code",
      "metadata": {
        "colab": {
          "base_uri": "https://localhost:8080/"
        },
        "id": "BnjHJVqIA9Yr",
        "outputId": "fd1435b3-0783-4270-bf27-bd7f9e9d7f2d"
      },
      "source": [
        "from sklearn.model_selection import train_test_split\n",
        "X_train, X_test, y_train, y_test = train_test_split(X, y, test_size=0.2, random_state=0)\n",
        "len(X_train), len(X_test), len(y_train), len(y_test)"
      ],
      "execution_count": 7,
      "outputs": [
        {
          "output_type": "execute_result",
          "data": {
            "text/plain": [
              "(7654, 1914, 7654, 1914)"
            ]
          },
          "metadata": {
            "tags": []
          },
          "execution_count": 7
        }
      ]
    },
    {
      "cell_type": "markdown",
      "metadata": {
        "id": "_mSLlAT9_eyI"
      },
      "source": [
        "## Part 2 - Building the ANN"
      ]
    },
    {
      "cell_type": "markdown",
      "metadata": {
        "id": "CsBULd_f_wLY"
      },
      "source": [
        "### Initializing the ANN"
      ]
    },
    {
      "cell_type": "code",
      "metadata": {
        "id": "MzwBQS0wC2BX"
      },
      "source": [
        "ann = tf.keras.Sequential()"
      ],
      "execution_count": 11,
      "outputs": []
    },
    {
      "cell_type": "markdown",
      "metadata": {
        "id": "iitAFJS_ABUn"
      },
      "source": [
        "### Adding the input layer and the first hidden layer"
      ]
    },
    {
      "cell_type": "code",
      "metadata": {
        "id": "EdXpTaiUETQ-"
      },
      "source": [
        "ann.add(tf.keras.layers.Dense(6, activation=\"relu\"))"
      ],
      "execution_count": 12,
      "outputs": []
    },
    {
      "cell_type": "markdown",
      "metadata": {
        "id": "-lb4kK_wAKbs"
      },
      "source": [
        "### Adding the second hidden layer"
      ]
    },
    {
      "cell_type": "code",
      "metadata": {
        "id": "7nVYKSLDGUD7"
      },
      "source": [
        "ann.add(tf.keras.layers.Dense(6, activation=\"relu\"))"
      ],
      "execution_count": 13,
      "outputs": []
    },
    {
      "cell_type": "markdown",
      "metadata": {
        "id": "jwMOmKb3AdBY"
      },
      "source": [
        "### Adding the output layer"
      ]
    },
    {
      "cell_type": "code",
      "metadata": {
        "id": "A3fno3PUGu-1"
      },
      "source": [
        "ann.add(tf.keras.layers.Dense(1))"
      ],
      "execution_count": 14,
      "outputs": []
    },
    {
      "cell_type": "markdown",
      "metadata": {
        "id": "fq7e4fF6A1yy"
      },
      "source": [
        "## Part 3 - Training the ANN"
      ]
    },
    {
      "cell_type": "markdown",
      "metadata": {
        "id": "qDeylAs2An25"
      },
      "source": [
        "### Compiling the ANN"
      ]
    },
    {
      "cell_type": "code",
      "metadata": {
        "id": "F4J5gJxLGzIv"
      },
      "source": [
        "ann.compile(optimizer=\"adam\",\n",
        "            loss=tf.keras.losses.mse)"
      ],
      "execution_count": 16,
      "outputs": []
    },
    {
      "cell_type": "markdown",
      "metadata": {
        "id": "YjVuiybYOo7r"
      },
      "source": [
        "### Training the ANN model on the Training set"
      ]
    },
    {
      "cell_type": "code",
      "metadata": {
        "colab": {
          "base_uri": "https://localhost:8080/"
        },
        "id": "zIQ4AK4iGzpi",
        "outputId": "028efffd-c1ad-445d-e659-e78fa6f04962"
      },
      "source": [
        "ann.fit(X_train, y_train, batch_size=32, epochs=100)"
      ],
      "execution_count": 17,
      "outputs": [
        {
          "output_type": "stream",
          "text": [
            "Epoch 1/100\n",
            "240/240 [==============================] - 1s 1ms/step - loss: 263686.7500\n",
            "Epoch 2/100\n",
            "240/240 [==============================] - 0s 2ms/step - loss: 42282.9922\n",
            "Epoch 3/100\n",
            "240/240 [==============================] - 0s 1ms/step - loss: 553.4209\n",
            "Epoch 4/100\n",
            "240/240 [==============================] - 0s 1ms/step - loss: 241.7831\n",
            "Epoch 5/100\n",
            "240/240 [==============================] - 0s 1ms/step - loss: 239.1076\n",
            "Epoch 6/100\n",
            "240/240 [==============================] - 0s 1ms/step - loss: 236.0304\n",
            "Epoch 7/100\n",
            "240/240 [==============================] - 0s 1ms/step - loss: 232.4350\n",
            "Epoch 8/100\n",
            "240/240 [==============================] - 0s 1ms/step - loss: 228.2568\n",
            "Epoch 9/100\n",
            "240/240 [==============================] - 0s 1ms/step - loss: 223.7256\n",
            "Epoch 10/100\n",
            "240/240 [==============================] - 0s 1ms/step - loss: 218.4432\n",
            "Epoch 11/100\n",
            "240/240 [==============================] - 0s 1ms/step - loss: 212.8154\n",
            "Epoch 12/100\n",
            "240/240 [==============================] - 0s 1ms/step - loss: 206.5936\n",
            "Epoch 13/100\n",
            "240/240 [==============================] - 0s 1ms/step - loss: 199.9408\n",
            "Epoch 14/100\n",
            "240/240 [==============================] - 0s 1ms/step - loss: 192.5983\n",
            "Epoch 15/100\n",
            "240/240 [==============================] - 0s 1ms/step - loss: 184.7026\n",
            "Epoch 16/100\n",
            "240/240 [==============================] - 0s 1ms/step - loss: 176.4651\n",
            "Epoch 17/100\n",
            "240/240 [==============================] - 0s 1ms/step - loss: 167.5861\n",
            "Epoch 18/100\n",
            "240/240 [==============================] - 0s 1ms/step - loss: 158.4707\n",
            "Epoch 19/100\n",
            "240/240 [==============================] - 0s 2ms/step - loss: 149.0573\n",
            "Epoch 20/100\n",
            "240/240 [==============================] - 0s 1ms/step - loss: 139.4734\n",
            "Epoch 21/100\n",
            "240/240 [==============================] - 0s 1ms/step - loss: 130.1249\n",
            "Epoch 22/100\n",
            "240/240 [==============================] - 0s 1ms/step - loss: 120.6398\n",
            "Epoch 23/100\n",
            "240/240 [==============================] - 0s 1ms/step - loss: 111.1731\n",
            "Epoch 24/100\n",
            "240/240 [==============================] - 0s 1ms/step - loss: 102.2663\n",
            "Epoch 25/100\n",
            "240/240 [==============================] - 0s 1ms/step - loss: 93.8854\n",
            "Epoch 26/100\n",
            "240/240 [==============================] - 0s 1ms/step - loss: 85.9750\n",
            "Epoch 27/100\n",
            "240/240 [==============================] - 0s 1ms/step - loss: 78.5673\n",
            "Epoch 28/100\n",
            "240/240 [==============================] - 0s 1ms/step - loss: 72.0304\n",
            "Epoch 29/100\n",
            "240/240 [==============================] - 0s 2ms/step - loss: 65.9763\n",
            "Epoch 30/100\n",
            "240/240 [==============================] - 0s 1ms/step - loss: 60.6548\n",
            "Epoch 31/100\n",
            "240/240 [==============================] - 0s 2ms/step - loss: 56.0831\n",
            "Epoch 32/100\n",
            "240/240 [==============================] - 0s 2ms/step - loss: 52.1624\n",
            "Epoch 33/100\n",
            "240/240 [==============================] - 0s 2ms/step - loss: 48.7660\n",
            "Epoch 34/100\n",
            "240/240 [==============================] - 0s 1ms/step - loss: 45.6295\n",
            "Epoch 35/100\n",
            "240/240 [==============================] - 0s 1ms/step - loss: 43.2495\n",
            "Epoch 36/100\n",
            "240/240 [==============================] - 0s 1ms/step - loss: 40.8697\n",
            "Epoch 37/100\n",
            "240/240 [==============================] - 0s 2ms/step - loss: 39.2712\n",
            "Epoch 38/100\n",
            "240/240 [==============================] - 0s 2ms/step - loss: 37.7685\n",
            "Epoch 39/100\n",
            "240/240 [==============================] - 0s 2ms/step - loss: 36.1492\n",
            "Epoch 40/100\n",
            "240/240 [==============================] - 0s 1ms/step - loss: 35.1055\n",
            "Epoch 41/100\n",
            "240/240 [==============================] - 0s 1ms/step - loss: 33.9669\n",
            "Epoch 42/100\n",
            "240/240 [==============================] - 0s 1ms/step - loss: 33.2666\n",
            "Epoch 43/100\n",
            "240/240 [==============================] - 0s 1ms/step - loss: 32.7909\n",
            "Epoch 44/100\n",
            "240/240 [==============================] - 0s 1ms/step - loss: 32.4218\n",
            "Epoch 45/100\n",
            "240/240 [==============================] - 0s 1ms/step - loss: 31.7771\n",
            "Epoch 46/100\n",
            "240/240 [==============================] - 0s 1ms/step - loss: 31.3778\n",
            "Epoch 47/100\n",
            "240/240 [==============================] - 0s 1ms/step - loss: 30.9076\n",
            "Epoch 48/100\n",
            "240/240 [==============================] - 0s 1ms/step - loss: 31.0809\n",
            "Epoch 49/100\n",
            "240/240 [==============================] - 0s 1ms/step - loss: 30.5035\n",
            "Epoch 50/100\n",
            "240/240 [==============================] - 0s 1ms/step - loss: 30.0562\n",
            "Epoch 51/100\n",
            "240/240 [==============================] - 0s 1ms/step - loss: 29.5822\n",
            "Epoch 52/100\n",
            "240/240 [==============================] - 0s 1ms/step - loss: 29.7725\n",
            "Epoch 53/100\n",
            "240/240 [==============================] - 0s 1ms/step - loss: 29.3035\n",
            "Epoch 54/100\n",
            "240/240 [==============================] - 0s 1ms/step - loss: 29.6733\n",
            "Epoch 55/100\n",
            "240/240 [==============================] - 0s 1ms/step - loss: 29.3267\n",
            "Epoch 56/100\n",
            "240/240 [==============================] - 0s 1ms/step - loss: 29.0639\n",
            "Epoch 57/100\n",
            "240/240 [==============================] - 0s 2ms/step - loss: 28.5457\n",
            "Epoch 58/100\n",
            "240/240 [==============================] - 0s 1ms/step - loss: 29.3123\n",
            "Epoch 59/100\n",
            "240/240 [==============================] - 0s 1ms/step - loss: 29.0495\n",
            "Epoch 60/100\n",
            "240/240 [==============================] - 0s 1ms/step - loss: 28.5059\n",
            "Epoch 61/100\n",
            "240/240 [==============================] - 0s 1ms/step - loss: 28.1488\n",
            "Epoch 62/100\n",
            "240/240 [==============================] - 0s 1ms/step - loss: 28.7212\n",
            "Epoch 63/100\n",
            "240/240 [==============================] - 0s 1ms/step - loss: 27.6277\n",
            "Epoch 64/100\n",
            "240/240 [==============================] - 0s 1ms/step - loss: 28.0516\n",
            "Epoch 65/100\n",
            "240/240 [==============================] - 0s 1ms/step - loss: 27.8323\n",
            "Epoch 66/100\n",
            "240/240 [==============================] - 0s 1ms/step - loss: 27.7236\n",
            "Epoch 67/100\n",
            "240/240 [==============================] - 0s 1ms/step - loss: 27.7569\n",
            "Epoch 68/100\n",
            "240/240 [==============================] - 0s 1ms/step - loss: 27.4273\n",
            "Epoch 69/100\n",
            "240/240 [==============================] - 0s 1ms/step - loss: 27.8347\n",
            "Epoch 70/100\n",
            "240/240 [==============================] - 0s 1ms/step - loss: 27.1388\n",
            "Epoch 71/100\n",
            "240/240 [==============================] - 0s 1ms/step - loss: 27.8165\n",
            "Epoch 72/100\n",
            "240/240 [==============================] - 0s 1ms/step - loss: 27.4645\n",
            "Epoch 73/100\n",
            "240/240 [==============================] - 0s 1ms/step - loss: 26.9659\n",
            "Epoch 74/100\n",
            "240/240 [==============================] - 0s 2ms/step - loss: 27.2827\n",
            "Epoch 75/100\n",
            "240/240 [==============================] - 0s 1ms/step - loss: 27.0338\n",
            "Epoch 76/100\n",
            "240/240 [==============================] - 0s 1ms/step - loss: 26.8860\n",
            "Epoch 77/100\n",
            "240/240 [==============================] - 0s 2ms/step - loss: 26.9013\n",
            "Epoch 78/100\n",
            "240/240 [==============================] - 0s 1ms/step - loss: 27.1013\n",
            "Epoch 79/100\n",
            "240/240 [==============================] - 0s 1ms/step - loss: 27.2013\n",
            "Epoch 80/100\n",
            "240/240 [==============================] - 0s 1ms/step - loss: 26.9705\n",
            "Epoch 81/100\n",
            "240/240 [==============================] - 0s 1ms/step - loss: 27.2606\n",
            "Epoch 82/100\n",
            "240/240 [==============================] - 0s 1ms/step - loss: 26.5708\n",
            "Epoch 83/100\n",
            "240/240 [==============================] - 0s 1ms/step - loss: 27.0021\n",
            "Epoch 84/100\n",
            "240/240 [==============================] - 0s 1ms/step - loss: 26.8635\n",
            "Epoch 85/100\n",
            "240/240 [==============================] - 0s 1ms/step - loss: 27.3638\n",
            "Epoch 86/100\n",
            "240/240 [==============================] - 0s 1ms/step - loss: 27.1399\n",
            "Epoch 87/100\n",
            "240/240 [==============================] - 0s 1ms/step - loss: 26.6623\n",
            "Epoch 88/100\n",
            "240/240 [==============================] - 0s 1ms/step - loss: 26.4366\n",
            "Epoch 89/100\n",
            "240/240 [==============================] - 0s 1ms/step - loss: 26.7408\n",
            "Epoch 90/100\n",
            "240/240 [==============================] - 0s 1ms/step - loss: 26.7906\n",
            "Epoch 91/100\n",
            "240/240 [==============================] - 0s 1ms/step - loss: 26.9690\n",
            "Epoch 92/100\n",
            "240/240 [==============================] - 0s 1ms/step - loss: 26.7716\n",
            "Epoch 93/100\n",
            "240/240 [==============================] - 0s 1ms/step - loss: 27.3820\n",
            "Epoch 94/100\n",
            "240/240 [==============================] - 0s 1ms/step - loss: 26.6841\n",
            "Epoch 95/100\n",
            "240/240 [==============================] - 0s 1ms/step - loss: 26.4963\n",
            "Epoch 96/100\n",
            "240/240 [==============================] - 0s 1ms/step - loss: 26.6046\n",
            "Epoch 97/100\n",
            "240/240 [==============================] - 0s 1ms/step - loss: 27.0548\n",
            "Epoch 98/100\n",
            "240/240 [==============================] - 0s 1ms/step - loss: 26.8268\n",
            "Epoch 99/100\n",
            "240/240 [==============================] - 0s 1ms/step - loss: 26.5939\n",
            "Epoch 100/100\n",
            "240/240 [==============================] - 0s 1ms/step - loss: 26.6449\n"
          ],
          "name": "stdout"
        },
        {
          "output_type": "execute_result",
          "data": {
            "text/plain": [
              "<tensorflow.python.keras.callbacks.History at 0x7f6b70503550>"
            ]
          },
          "metadata": {
            "tags": []
          },
          "execution_count": 17
        }
      ]
    },
    {
      "cell_type": "markdown",
      "metadata": {
        "id": "0H0zKKNEBLD5"
      },
      "source": [
        "### Predicting the results of the Test set"
      ]
    },
    {
      "cell_type": "code",
      "metadata": {
        "id": "bRUefTgCG0EF"
      },
      "source": [
        "y_pred = ann.predict(X_test)"
      ],
      "execution_count": 18,
      "outputs": []
    },
    {
      "cell_type": "code",
      "metadata": {
        "colab": {
          "base_uri": "https://localhost:8080/"
        },
        "id": "LZNNIcNuIkfY",
        "outputId": "269817e0-a1d0-424d-8165-deea3624bc72"
      },
      "source": [
        "y_pred"
      ],
      "execution_count": 19,
      "outputs": [
        {
          "output_type": "execute_result",
          "data": {
            "text/plain": [
              "array([[431.22662],\n",
              "       [462.72897],\n",
              "       [466.4447 ],\n",
              "       ...,\n",
              "       [473.28836],\n",
              "       [440.7539 ],\n",
              "       [459.6993 ]], dtype=float32)"
            ]
          },
          "metadata": {
            "tags": []
          },
          "execution_count": 19
        }
      ]
    },
    {
      "cell_type": "code",
      "metadata": {
        "colab": {
          "base_uri": "https://localhost:8080/"
        },
        "id": "h6DomVyiIlUJ",
        "outputId": "0cdc8df1-3708-458b-c39a-431f4b413525"
      },
      "source": [
        "np.set_printoptions(precision=2)\n",
        "print(np.concatenate((y_pred.reshape(len(y_pred), 1), y_test.reshape(len(y_test), 1)), 1))"
      ],
      "execution_count": 21,
      "outputs": [
        {
          "output_type": "stream",
          "text": [
            "[[431.23 431.23]\n",
            " [462.73 460.01]\n",
            " [466.44 461.14]\n",
            " ...\n",
            " [473.29 473.26]\n",
            " [440.75 438.  ]\n",
            " [459.7  463.28]]\n"
          ],
          "name": "stdout"
        }
      ]
    },
    {
      "cell_type": "code",
      "metadata": {
        "id": "b2uG7oi7ImyX"
      },
      "source": [
        ""
      ],
      "execution_count": null,
      "outputs": []
    }
  ]
}